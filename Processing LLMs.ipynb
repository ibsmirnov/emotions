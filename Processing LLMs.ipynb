{
 "cells": [
  {
   "cell_type": "code",
   "execution_count": 22,
   "id": "18d2f866-7a6a-43a6-89cb-a937fefe513e",
   "metadata": {},
   "outputs": [],
   "source": [
    "import pandas as pd"
   ]
  },
  {
   "cell_type": "code",
   "execution_count": 23,
   "id": "e07f6692-682e-4a27-be02-da11d7122362",
   "metadata": {},
   "outputs": [],
   "source": [
    "import pickle\n",
    "def save_final(model_name, data):\n",
    "    with open(f'data/final_scores_{model_name}.pkl', 'wb') as f:\n",
    "        pickle.dump(data, f)"
   ]
  },
  {
   "cell_type": "code",
   "execution_count": 24,
   "id": "7ca1498f-1583-40c1-a6de-606c6adbb23b",
   "metadata": {},
   "outputs": [],
   "source": [
    "df = pd.read_csv('data/dataset.csv', quoting=1, escapechar='\\\\', doublequote=True)\n",
    "id_mapping = dict(zip(df['text'], df['id']))"
   ]
  },
  {
   "cell_type": "code",
   "execution_count": 25,
   "id": "b5b94920-58db-4946-833f-6043afa69315",
   "metadata": {},
   "outputs": [
    {
     "name": "stdout",
     "output_type": "stream",
     "text": [
      "Original size 32000\n",
      "With detected sentiment 29902\n",
      "Original size 32000\n",
      "With detected sentiment 31340\n",
      "Original size 32000\n",
      "With detected sentiment 31228\n",
      "Original size 32000\n",
      "With detected sentiment 31115\n",
      "Original size 32000\n",
      "With detected sentiment 31805\n",
      "Original size 32000\n",
      "With detected sentiment 31718\n",
      "Original size 32000\n",
      "With detected sentiment 31922\n"
     ]
    }
   ],
   "source": [
    "models = ['mistral', 'llama70', 'granite', 'olmo', 'qwen', 'falcon', 'llama8']\n",
    "\n",
    "for model_name in models:\n",
    "    model_df = pd.read_csv(f'data/llms/{model_name}.csv')    \n",
    "    model_df['original_id'] = model_df['text'].map(id_mapping)\n",
    "    print('Original size', len(model_df))\n",
    "    model_df = model_df[model_df['sentiment_label'].isin(['positive', 'negative', 'neural'])]\n",
    "    print('With detected sentiment', len(model_df))\n",
    "\n",
    "    scores = dict(zip(model_df['original_id'], model_df['sentiment_label']))\n",
    "\n",
    "    save_final(model_name, scores)"
   ]
  },
  {
   "cell_type": "code",
   "execution_count": null,
   "id": "3b924ebb-7a07-4aae-a99e-7d1f069a1461",
   "metadata": {},
   "outputs": [],
   "source": []
  }
 ],
 "metadata": {
  "kernelspec": {
   "display_name": "Python 3 (ipykernel)",
   "language": "python",
   "name": "python3"
  },
  "language_info": {
   "codemirror_mode": {
    "name": "ipython",
    "version": 3
   },
   "file_extension": ".py",
   "mimetype": "text/x-python",
   "name": "python",
   "nbconvert_exporter": "python",
   "pygments_lexer": "ipython3",
   "version": "3.11.7"
  }
 },
 "nbformat": 4,
 "nbformat_minor": 5
}
