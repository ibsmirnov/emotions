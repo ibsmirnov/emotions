{
 "cells": [
  {
   "cell_type": "markdown",
   "id": "30cb12f2-4cef-43f4-908f-0c18865eaab2",
   "metadata": {},
   "source": [
    "## Combining users and questions files and cleaning the data"
   ]
  },
  {
   "cell_type": "code",
   "execution_count": 29,
   "id": "0d7b3af5-7af1-489a-be62-e26e40a5b4ce",
   "metadata": {},
   "outputs": [
    {
     "name": "stderr",
     "output_type": "stream",
     "text": [
      "/var/folders/qn/r236hk7d6g9d5m5jhyy4tqmc0000gn/T/ipykernel_8317/1292131602.py:3: DtypeWarning: Columns (0,13,25,28,29) have mixed types. Specify dtype option on import or set low_memory=False.\n",
      "  users = pd.read_csv('data/users.csv')\n",
      "/var/folders/qn/r236hk7d6g9d5m5jhyy4tqmc0000gn/T/ipykernel_8317/1292131602.py:4: DtypeWarning: Columns (11,15,16,17,18,19) have mixed types. Specify dtype option on import or set low_memory=False.\n",
      "  posts = pd.read_csv('data/questions.csv')\n"
     ]
    }
   ],
   "source": [
    "import pandas as pd\n",
    "\n",
    "users = pd.read_csv('data/users.csv')\n",
    "posts = pd.read_csv('data/questions.csv')"
   ]
  },
  {
   "cell_type": "code",
   "execution_count": 8,
   "id": "e7de94dc-fe88-4eeb-bf01-972ceba3c5e8",
   "metadata": {},
   "outputs": [
    {
     "name": "stdout",
     "output_type": "stream",
     "text": [
      "Number of users 431563\n",
      "Number of users after duplicates removal 431502\n",
      "Number of users after NA removal 431095\n",
      "Number of users with binary gender 400850\n",
      "Cleaned number 400656\n"
     ]
    }
   ],
   "source": [
    "print('Number of users', len(users))\n",
    "# We need only gender from users\n",
    "users = users[['Id', 'Sex']]\n",
    "users.drop_duplicates(inplace = True)\n",
    "print('Number of users after duplicates removal', len(users))\n",
    "users.dropna(inplace = True)\n",
    "print('Number of users after NA removal', len(users))\n",
    "users = users[users['Sex'].isin([0,1])]\n",
    "print('Number of users with binary gender', len(users))\n",
    "\n",
    "# Filtering out wierd cases with non numeric Id's\n",
    "mask = pd.to_numeric(users['Id'], errors='coerce').notna() & pd.to_numeric(users['Sex'], errors='coerce').notna()\n",
    "users = users[mask]\n",
    "users[['Id', 'Sex']] = users[['Id', 'Sex']].astype(int)\n",
    "print('Cleaned number', len(users))"
   ]
  },
  {
   "cell_type": "code",
   "execution_count": 11,
   "id": "57c5a444-31be-4d71-a386-d5675641806f",
   "metadata": {},
   "outputs": [
    {
     "name": "stdout",
     "output_type": "stream",
     "text": [
      "Number of posts 6633562\n",
      "Number of posts after NA removal 4765774\n",
      "Number of posts with known binary gender 3822868\n"
     ]
    }
   ],
   "source": [
    "print('Number of posts', len(posts))\n",
    "posts = posts[['Id', 'CreatedBy', 'Content', 'NewMood']]\n",
    "posts.dropna(inplace = True)\n",
    "print('Number of posts after NA removal', len(posts))\n",
    "posts[['Id', 'CreatedBy']] = posts[['Id', 'CreatedBy']].astype(int)\n",
    "posts[['Content', 'NewMood']] = posts[['Content', 'NewMood']].astype(str)\n",
    "posts = pd.merge(posts, users, left_on = 'CreatedBy', right_on = 'Id', how = 'inner')\n",
    "print('Number of posts with known binary gender', len(posts))"
   ]
  },
  {
   "cell_type": "code",
   "execution_count": 14,
   "id": "e9ab1f7c-8e14-42b8-8449-01cf3348168a",
   "metadata": {},
   "outputs": [],
   "source": [
    "posts = posts.rename(columns={\n",
    "    'Id_x': 'id',\n",
    "    'CreatedBy': 'user',\n",
    "    'Content': 'text',\n",
    "    'NewMood': 'mood',\n",
    "    'Sex': 'sex'\n",
    "})\n",
    "\n",
    "# Drop the Id_y column\n",
    "posts = posts.drop('Id_y', axis=1)"
   ]
  },
  {
   "cell_type": "markdown",
   "id": "e2a6b92d-ee0a-4ddc-ade9-84d35244b4b9",
   "metadata": {},
   "source": [
    "## Extracting only 16 main labels, removing short posts and saving the result"
   ]
  },
  {
   "cell_type": "code",
   "execution_count": 15,
   "id": "e5fc139c-964c-40c8-93fc-ea7eec94560d",
   "metadata": {},
   "outputs": [],
   "source": [
    "moods = set(['Sad','Lonely','Angry','Annoyed','Frustrated','Furious','Anxious','Stressed','Afraid','Nervous','Worried','Loving','Caring','Supportive','Happy','Excited'])"
   ]
  },
  {
   "cell_type": "code",
   "execution_count": 16,
   "id": "3a0264d4-6ad0-467d-b8cf-e31f535188ce",
   "metadata": {},
   "outputs": [
    {
     "name": "stdout",
     "output_type": "stream",
     "text": [
      "1738282\n"
     ]
    }
   ],
   "source": [
    "posts = posts[posts['mood'].isin(moods)]\n",
    "print(len(posts))"
   ]
  },
  {
   "cell_type": "code",
   "execution_count": 17,
   "id": "0f112c8e-545c-4ba5-a5ed-4d291e75d5f3",
   "metadata": {},
   "outputs": [],
   "source": [
    "from transformers import AutoTokenizer\n",
    "tokenizer = AutoTokenizer.from_pretrained('FacebookAI/roberta-base')"
   ]
  },
  {
   "cell_type": "code",
   "execution_count": 18,
   "id": "e34d9c04-756f-40b1-bd2b-7d5b97d653ac",
   "metadata": {},
   "outputs": [],
   "source": [
    "def token_count(text):\n",
    "    return len(tokenizer.encode(text, add_special_tokens=True))"
   ]
  },
  {
   "cell_type": "code",
   "execution_count": 19,
   "id": "83046dba-fc89-4faa-849c-46accb75acb9",
   "metadata": {},
   "outputs": [
    {
     "name": "stderr",
     "output_type": "stream",
     "text": [
      "Token indices sequence length is longer than the specified maximum sequence length for this model (636 > 512). Running this sequence through the model will result in indexing errors\n"
     ]
    }
   ],
   "source": [
    "posts['tokens'] = posts['text'].apply(token_count)"
   ]
  },
  {
   "cell_type": "code",
   "execution_count": 20,
   "id": "0be29247-7637-4b16-90fb-172da87b99dd",
   "metadata": {},
   "outputs": [
    {
     "name": "stdout",
     "output_type": "stream",
     "text": [
      "1711514\n"
     ]
    }
   ],
   "source": [
    "# Filtering data as defined in preregistration\n",
    "\n",
    "posts = posts[(posts['tokens'] >= 5) & (posts['tokens'] <= 512)]\n",
    "print(len(posts))"
   ]
  },
  {
   "cell_type": "code",
   "execution_count": 21,
   "id": "166fa360-0022-4beb-b7c8-6e9bbd6c9080",
   "metadata": {},
   "outputs": [],
   "source": [
    "posts = posts.drop('tokens', axis=1)"
   ]
  },
  {
   "cell_type": "code",
   "execution_count": 27,
   "id": "c5e508c5-6c88-4f2e-8c27-4ff466144533",
   "metadata": {},
   "outputs": [],
   "source": [
    "posts.to_csv('data/dataset.csv', index=False, quoting=1, escapechar='\\\\', doublequote=True)"
   ]
  }
 ],
 "metadata": {
  "kernelspec": {
   "display_name": "Python 3 (ipykernel)",
   "language": "python",
   "name": "python3"
  },
  "language_info": {
   "codemirror_mode": {
    "name": "ipython",
    "version": 3
   },
   "file_extension": ".py",
   "mimetype": "text/x-python",
   "name": "python",
   "nbconvert_exporter": "python",
   "pygments_lexer": "ipython3",
   "version": "3.11.7"
  }
 },
 "nbformat": 4,
 "nbformat_minor": 5
}
