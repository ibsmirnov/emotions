{
 "cells": [
  {
   "cell_type": "markdown",
   "id": "87c485e6-5f8e-443e-91fa-6b75b3c3d5d3",
   "metadata": {},
   "source": [
    "## Computing raw scores produces but different models"
   ]
  },
  {
   "cell_type": "code",
   "execution_count": 14,
   "id": "14039ff8-45a0-44d8-a3b5-dcd0a9acde89",
   "metadata": {},
   "outputs": [],
   "source": [
    "import warnings\n",
    "warnings.filterwarnings('ignore')"
   ]
  },
  {
   "cell_type": "code",
   "execution_count": 43,
   "id": "124bdd0f-06d4-41ab-aeeb-ae24ea1a9e36",
   "metadata": {},
   "outputs": [],
   "source": [
    "import pandas as pd\n",
    "import pickle\n",
    "import time\n",
    "from datasets import Dataset\n",
    "from transformers import pipeline"
   ]
  },
  {
   "cell_type": "code",
   "execution_count": 16,
   "id": "48b0d9e9-9ddf-4a7c-9b90-999c8957dcbb",
   "metadata": {},
   "outputs": [],
   "source": [
    "def save_raw(model_name, data):\n",
    "    with open(f'data/raw_scores_{model_name}.pkl', 'wb') as f:\n",
    "        pickle.dump(data, f)"
   ]
  },
  {
   "cell_type": "code",
   "execution_count": 45,
   "id": "f1883667-1e09-4dcf-baaf-b648b054f0bc",
   "metadata": {},
   "outputs": [],
   "source": [
    "# Unified function for hugging face models\n",
    "def compute_hf(model_name, short, df):\n",
    "    dataset = Dataset.from_pandas(df.reset_index()[['text']])\n",
    "    \n",
    "    model = pipeline(\"text-classification\", model = model_name, top_k = None, device = 'mps')\n",
    "\n",
    "    s = time.time()\n",
    "    scores = model(dataset['text'])\n",
    "\n",
    "    if len(scores) != len(df):\n",
    "        raise ValueError(f\"Length mismatch: df has {len(df)} rows but senti_scores has {len(scores)} elements\")\n",
    "\n",
    "    scores = {id_val: score for id_val, score in zip(df['id'], scores)}\n",
    "    \n",
    "    total = time.time() - s\n",
    "    print('Time', round(total))\n",
    "\n",
    "    save_raw(short, scores)"
   ]
  },
  {
   "cell_type": "markdown",
   "id": "514c68c3-3d0e-443c-9dfe-9ed94d955284",
   "metadata": {},
   "source": [
    "## NRC"
   ]
  },
  {
   "cell_type": "code",
   "execution_count": 61,
   "id": "970825d4-ff79-4aa4-a1b4-d1039dbb28b3",
   "metadata": {},
   "outputs": [
    {
     "name": "stdout",
     "output_type": "stream",
     "text": [
      "NRC\n",
      "Time 280.5289590358734\n"
     ]
    }
   ],
   "source": [
    "from nrclex import NRCLex\n",
    "\n",
    "model_name = 'nrc'\n",
    "print('NRC')\n",
    "\n",
    "df = pd.read_csv('data/dataset.csv', quoting=1, escapechar='\\\\', doublequote=True)\n",
    "#df = df.head(100000)\n",
    "s = time.time()\n",
    "\n",
    "scores = {}\n",
    "\n",
    "for i, row in df.iterrows():\n",
    "    model = NRCLex(row['text'])\n",
    "    scores[row['id']] = model.top_emotions\n",
    "    \n",
    "total = time.time() - s\n",
    "print('Time', total)\n",
    "\n",
    "save_raw(model_name, scores)"
   ]
  },
  {
   "cell_type": "markdown",
   "id": "50e60df6-4283-4cf1-85b1-25c2426fede6",
   "metadata": {},
   "source": [
    "## Vader"
   ]
  },
  {
   "cell_type": "code",
   "execution_count": 62,
   "id": "c19ddcb7-e45b-4490-a9cc-bf773ac92efa",
   "metadata": {},
   "outputs": [
    {
     "name": "stdout",
     "output_type": "stream",
     "text": [
      "Vader\n",
      "Time 154.49059987068176\n"
     ]
    }
   ],
   "source": [
    "from vaderSentiment.vaderSentiment import SentimentIntensityAnalyzer\n",
    "vader_model = SentimentIntensityAnalyzer()\n",
    "\n",
    "model_name = 'vader'\n",
    "print('Vader')\n",
    "\n",
    "df = pd.read_csv('data/dataset.csv', quoting=1, escapechar='\\\\', doublequote=True)\n",
    "#df = df.head(100000)\n",
    "s = time.time()\n",
    "\n",
    "scores = {}\n",
    "\n",
    "for i, row in df.iterrows():\n",
    "    scores[row['id']] = vader_model.polarity_scores(row['text'])\n",
    "    \n",
    "total = time.time() - s\n",
    "print('Time', total)\n",
    "\n",
    "save_raw(model_name, scores)"
   ]
  },
  {
   "cell_type": "markdown",
   "id": "26369ccd-b5a2-440f-aefb-b49d773e7600",
   "metadata": {},
   "source": [
    "## Pysentimiento"
   ]
  },
  {
   "cell_type": "code",
   "execution_count": 30,
   "id": "300763b5-05bb-4101-818a-803b34f698e7",
   "metadata": {},
   "outputs": [],
   "source": [
    "from pysentimiento.preprocessing import preprocess_tweet\n",
    "from pysentimiento import create_analyzer\n",
    "senti_model = create_analyzer(task=\"sentiment\", lang = 'en')\n",
    "emo_model = create_analyzer(task=\"emotion\", lang=\"en\")"
   ]
  },
  {
   "cell_type": "code",
   "execution_count": 35,
   "id": "c6fb7547-c949-4abe-aa5f-1253411331dc",
   "metadata": {},
   "outputs": [
    {
     "name": "stdout",
     "output_type": "stream",
     "text": [
      "Pysentimiento (senti)\n"
     ]
    },
    {
     "data": {
      "application/vnd.jupyter.widget-view+json": {
       "model_id": "9a81bb7b29344c208353023b01af153e",
       "version_major": 2,
       "version_minor": 0
      },
      "text/plain": [
       "Map:   0%|          | 0/100000 [00:00<?, ? examples/s]"
      ]
     },
     "metadata": {},
     "output_type": "display_data"
    },
    {
     "name": "stdout",
     "output_type": "stream",
     "text": [
      "Time 669\n"
     ]
    }
   ],
   "source": [
    "model_name = 'pysentimiento_senti'\n",
    "print('Pysentimiento (senti)')\n",
    "\n",
    "df = pd.read_csv('data/dataset.csv', quoting=1, escapechar='\\\\', doublequote=True)\n",
    "df = df.head(100000)\n",
    "\n",
    "s = time.time()\n",
    "senti_scores = senti_model.predict(df['text'])\n",
    "\n",
    "scores = {id_val: score for id_val, score in zip(df['id'], senti_scores)}\n",
    "\n",
    "total = time.time() - s\n",
    "print('Time', round(total))\n",
    "save_raw(model_name, scores)"
   ]
  },
  {
   "cell_type": "code",
   "execution_count": 36,
   "id": "6c30f816-58d0-4ed2-b016-d39a1b237e8f",
   "metadata": {},
   "outputs": [
    {
     "name": "stdout",
     "output_type": "stream",
     "text": [
      "Pysentimiento (emo)\n"
     ]
    },
    {
     "data": {
      "application/vnd.jupyter.widget-view+json": {
       "model_id": "a137f41821e04a9e84db879228b74739",
       "version_major": 2,
       "version_minor": 0
      },
      "text/plain": [
       "Map:   0%|          | 0/100000 [00:00<?, ? examples/s]"
      ]
     },
     "metadata": {},
     "output_type": "display_data"
    },
    {
     "name": "stdout",
     "output_type": "stream",
     "text": [
      "Time 679\n"
     ]
    }
   ],
   "source": [
    "model_name = 'pysentimiento_emo'\n",
    "print('Pysentimiento (emo)')\n",
    "\n",
    "df = pd.read_csv('data/dataset.csv', quoting=1, escapechar='\\\\', doublequote=True)\n",
    "df = df.head(100000)\n",
    "\n",
    "s = time.time()\n",
    "emo_scores = emo_model.predict(df['text'])\n",
    "\n",
    "scores = {id_val: score for id_val, score in zip(df['id'], emo_scores)}\n",
    "\n",
    "total = time.time() - s\n",
    "print('Time', round(total))\n",
    "save_raw(model_name, scores)"
   ]
  },
  {
   "cell_type": "markdown",
   "id": "e1a42308-480a-4961-aca1-1e868dc04a62",
   "metadata": {},
   "source": [
    "## Hartmann"
   ]
  },
  {
   "cell_type": "code",
   "execution_count": 57,
   "id": "c4965c22-8115-4e49-908d-967719c7e541",
   "metadata": {},
   "outputs": [
    {
     "name": "stdout",
     "output_type": "stream",
     "text": [
      "Hartmann\n",
      "Time 681\n"
     ]
    }
   ],
   "source": [
    "model_name = 'j-hartmann/emotion-english-distilroberta-base'\n",
    "print('Hartmann')\n",
    "\n",
    "df = pd.read_csv('data/dataset.csv', quoting=1, escapechar='\\\\', doublequote=True)\n",
    "df = df.head(100000)\n",
    "compute_hf(model_name, 'hartmann', df)"
   ]
  },
  {
   "cell_type": "markdown",
   "id": "5b9b874a-8e12-41cc-ade8-25b19d3e7256",
   "metadata": {},
   "source": [
    "## Cardiff"
   ]
  },
  {
   "cell_type": "code",
   "execution_count": 58,
   "id": "49e5834b-4524-4123-9637-6a252e9b6663",
   "metadata": {},
   "outputs": [
    {
     "name": "stdout",
     "output_type": "stream",
     "text": [
      "Cardiff\n",
      "Time 844\n"
     ]
    }
   ],
   "source": [
    "model_name = 'cardiffnlp/twitter-roberta-base-sentiment-latest'\n",
    "print('Cardiff')\n",
    "\n",
    "df = pd.read_csv('data/dataset.csv', quoting=1, escapechar='\\\\', doublequote=True)\n",
    "df = df.head(100000)\n",
    "compute_hf(model_name, 'cardif', df)"
   ]
  },
  {
   "cell_type": "markdown",
   "id": "719059cf-0f35-4cd7-8899-d14416f0ed94",
   "metadata": {},
   "source": [
    "## Siebert"
   ]
  },
  {
   "cell_type": "code",
   "execution_count": 59,
   "id": "98796ba4-9889-4746-9d7a-74959f86b55e",
   "metadata": {},
   "outputs": [
    {
     "name": "stdout",
     "output_type": "stream",
     "text": [
      "Siebert\n",
      "Time 1934\n"
     ]
    }
   ],
   "source": [
    "model_name = 'siebert/sentiment-roberta-large-english'\n",
    "print('Siebert')\n",
    "\n",
    "df = pd.read_csv('data/dataset.csv', quoting=1, escapechar='\\\\', doublequote=True)\n",
    "df = df.head(100000)\n",
    "compute_hf(model_name, 'siebert', df)"
   ]
  },
  {
   "cell_type": "markdown",
   "id": "425dbd40-1644-49b2-b59c-f552c05670ce",
   "metadata": {},
   "source": [
    "## LEIA"
   ]
  },
  {
   "cell_type": "code",
   "execution_count": 60,
   "id": "f1b114f4-360f-4745-a244-c3a817879654",
   "metadata": {},
   "outputs": [
    {
     "name": "stdout",
     "output_type": "stream",
     "text": [
      "LEIA\n",
      "Time 1826\n"
     ]
    }
   ],
   "source": [
    "model_name = 'LEIA/LEIA-large'\n",
    "print('LEIA')\n",
    "\n",
    "df = pd.read_csv('data/dataset.csv', quoting=1, escapechar='\\\\', doublequote=True)\n",
    "df = df.head(100000)\n",
    "compute_hf(model_name, 'leia', df)"
   ]
  },
  {
   "cell_type": "markdown",
   "id": "a6785969-758f-42a4-a579-e5f09366a596",
   "metadata": {},
   "source": [
    "## LIWC"
   ]
  },
  {
   "cell_type": "markdown",
   "id": "aa557318-ce39-4ec3-a1af-db8b668b5632",
   "metadata": {},
   "source": [
    "Done via LIWC software"
   ]
  },
  {
   "cell_type": "markdown",
   "id": "8fe1cc80-d51a-4bc4-83d0-66aef6c1f814",
   "metadata": {},
   "source": [
    "## LLMS"
   ]
  },
  {
   "cell_type": "markdown",
   "id": "87b952f0-0c42-458d-973c-6d0e4e5ab408",
   "metadata": {},
   "source": [
    "Results provided by Segun"
   ]
  },
  {
   "cell_type": "code",
   "execution_count": null,
   "id": "98a7d0ec-66f3-4250-b76b-a6229957b5dc",
   "metadata": {},
   "outputs": [],
   "source": []
  }
 ],
 "metadata": {
  "kernelspec": {
   "display_name": "Python 3 (ipykernel)",
   "language": "python",
   "name": "python3"
  },
  "language_info": {
   "codemirror_mode": {
    "name": "ipython",
    "version": 3
   },
   "file_extension": ".py",
   "mimetype": "text/x-python",
   "name": "python",
   "nbconvert_exporter": "python",
   "pygments_lexer": "ipython3",
   "version": "3.11.7"
  }
 },
 "nbformat": 4,
 "nbformat_minor": 5
}
