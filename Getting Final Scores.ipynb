{
 "cells": [
  {
   "cell_type": "markdown",
   "id": "815fddfa-63f7-43c6-a742-39242b4b538e",
   "metadata": {},
   "source": [
    "## Computing final score by unifying output of all models with the possible labels limited to \"positive\", \"negative\", and \"neutral\""
   ]
  },
  {
   "cell_type": "code",
   "execution_count": 13,
   "id": "95c82ffe-260a-466b-a9ca-ae552c7ea684",
   "metadata": {},
   "outputs": [],
   "source": [
    "import pickle\n",
    "def save_final(model_name, data):\n",
    "    with open(f'data/final_scores_{model_name}.pkl', 'wb') as f:\n",
    "        pickle.dump(data, f)\n",
    "\n",
    "def open_raw(model_name):\n",
    "    with open(f'data/raw_scores_{model_name}.pkl', 'rb') as f:\n",
    "        data = pickle.load(f)\n",
    "    \n",
    "    return data"
   ]
  },
  {
   "cell_type": "markdown",
   "id": "b45f427f-687c-4fff-b79c-b5469b06d451",
   "metadata": {},
   "source": [
    "## Defining proper transofrmation for each model"
   ]
  },
  {
   "cell_type": "code",
   "execution_count": 14,
   "id": "22efe811-b2f7-4064-b9ef-b6ef72d49c06",
   "metadata": {},
   "outputs": [],
   "source": [
    "def do_leia(raw_scores):\n",
    "    mp = {'Happiness': 1, 'Affection': 1, 'Sadness': 0, 'Fear': 0, 'Anger': 0}\n",
    "    sentiments = ['negative', 'positive']\n",
    "\n",
    "    result = []\n",
    "    for item in raw_scores:\n",
    "        max_label = max(item, key=lambda x: x['score'])['label']\n",
    "        result.append(sentiments[mp[max_label]])\n",
    "    return result\n",
    "\n",
    "def do_pysentimiento_senti(raw_scores):\n",
    "    mp_pysentimiento = {'POS': 'positive', 'NEU': 'neutral', 'NEG': 'negative'}\n",
    "    \n",
    "    result = []\n",
    "    for item in raw_scores:\n",
    "        result.append(mp_pysentimiento[item.output])\n",
    "    return result\n",
    "\n",
    "def do_pysentimiento_emo(raw_scores):\n",
    "    mp = {'positive': ['joy'], 'negative': ['sadness', 'anger', 'disgust', 'fear'], 'neutral': ['surprise', 'others']}\n",
    "    reverse = {}\n",
    "    for x in mp:\n",
    "        for y in mp[x]:\n",
    "            reverse[y] = x\n",
    "    result = []\n",
    "    for item in raw_scores:     \n",
    "        result.append(reverse[item.output])\n",
    "   \n",
    "    return result\n",
    "\n",
    "def do_hartmann(raw_scores):\n",
    "    mp = {'positive': ['joy'], 'negative': ['sadness', 'anger', 'disgust', 'fear'], 'neutral': ['surprise', 'neutral']}\n",
    "    reverse = {}\n",
    "    for x in mp:\n",
    "        for y in mp[x]:\n",
    "            reverse[y] = x\n",
    "\n",
    "    result = []\n",
    "    for item in raw_scores:\n",
    "        max_label = max(item, key=lambda x: x['score'])['label']\n",
    "        result.append(reverse[max_label])\n",
    "    \n",
    "    return result\n",
    "\n",
    "def do_cardif(raw_scores):\n",
    "    result = []\n",
    "    for item in raw_scores:\n",
    "        max_label = max(item, key=lambda x: x['score'])['label']\n",
    "        result.append(max_label)\n",
    "    return result\n",
    "\n",
    "def do_siebert(raw_scores):\n",
    "    result = []\n",
    "    for item in raw_scores:\n",
    "        max_label = max(item, key=lambda x: x['score'])['label']\n",
    "        result.append(max_label.lower())\n",
    "    return result\n",
    "\n",
    "def do_vader(raw_scores):\n",
    "    result = []\n",
    "    for item in raw_scores:\n",
    "        if item['compound'] >= 0.05:\n",
    "            result.append('positive')\n",
    "        elif item['compound'] <= -0.05:\n",
    "            result.append('negative')\n",
    "        else:\n",
    "            result.append('neutral')\n",
    "    return result\n",
    "\n",
    "def do_nrc(raw_scores):\n",
    "    label_map = {'fear':'negative','anger':'negative','anticipation':'neutral',\n",
    "            'anticip':'neutral','trust':'positive','surprise':'neutral','positive':'positive','negative':'negative',\n",
    "            'sadness':'negative','disgust':'negative','joy':'positive'}\n",
    "\n",
    "    result = []\n",
    "    for item in raw_scores:\n",
    "        mx = item[0]\n",
    "        all_items = [label_map[i[0]] for i in item if i[1] == mx[1]]\n",
    "        pos = all_items.count('positive')\n",
    "        neg = all_items.count('negative')\n",
    "        if pos > neg:\n",
    "            result.append('positive')\n",
    "        elif neg > pos:\n",
    "            result.append('negative')\n",
    "        else:\n",
    "            result.append('neutral')\n",
    "    return result"
   ]
  },
  {
   "cell_type": "code",
   "execution_count": 15,
   "id": "90aa8917-f834-435a-a5c0-b743594e7581",
   "metadata": {},
   "outputs": [],
   "source": [
    "models = [\n",
    "    ('nrc', do_nrc),\n",
    "    ('vader', do_vader),\n",
    "    ('pysentimiento_senti',do_pysentimiento_senti),\n",
    "    ('pysentimiento_emo',do_pysentimiento_emo),\n",
    "    ('hartmann',do_hartmann),\n",
    "    ('cardif',do_cardif),\n",
    "    ('siebert',do_siebert),\n",
    "    ('leia', do_leia),\n",
    "    ]"
   ]
  },
  {
   "cell_type": "code",
   "execution_count": 16,
   "id": "1c5be87a-0294-43b7-a994-653790f1654e",
   "metadata": {},
   "outputs": [
    {
     "name": "stdout",
     "output_type": "stream",
     "text": [
      "nrc\n",
      "vader\n",
      "pysentimiento_senti\n",
      "pysentimiento_emo\n",
      "hartmann\n",
      "cardif\n",
      "siebert\n",
      "leia\n"
     ]
    }
   ],
   "source": [
    "for model_name, model_function in models:\n",
    "    print(model_name)\n",
    "    raw_scores = open_raw(model_name)\n",
    "\n",
    "    func_name = 'do_' + model_name\n",
    "\n",
    "    result = model_function(list(raw_scores.values()))\n",
    "\n",
    "    final_scores = {}\n",
    "    for key, score in zip(raw_scores.keys(), result):\n",
    "        final_scores[key] = score\n",
    "\n",
    "    save_final(model_name, final_scores)"
   ]
  },
  {
   "cell_type": "code",
   "execution_count": null,
   "id": "049d2fb4-aa93-4647-a056-9404ac2d3721",
   "metadata": {},
   "outputs": [],
   "source": []
  },
  {
   "cell_type": "code",
   "execution_count": null,
   "id": "879ef801-ae88-4477-a293-26cf01da79b3",
   "metadata": {},
   "outputs": [],
   "source": []
  }
 ],
 "metadata": {
  "kernelspec": {
   "display_name": "Python 3 (ipykernel)",
   "language": "python",
   "name": "python3"
  },
  "language_info": {
   "codemirror_mode": {
    "name": "ipython",
    "version": 3
   },
   "file_extension": ".py",
   "mimetype": "text/x-python",
   "name": "python",
   "nbconvert_exporter": "python",
   "pygments_lexer": "ipython3",
   "version": "3.11.7"
  }
 },
 "nbformat": 4,
 "nbformat_minor": 5
}
