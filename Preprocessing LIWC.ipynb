{
 "cells": [
  {
   "cell_type": "markdown",
   "id": "e7d7694c-2f7e-46d7-b5cb-4a540872f15d",
   "metadata": {},
   "source": [
    "## Exporing data for processing in LIWC"
   ]
  },
  {
   "cell_type": "code",
   "execution_count": 31,
   "id": "cb2d5265-8817-43e6-9ca0-fb16e56c5aee",
   "metadata": {},
   "outputs": [],
   "source": [
    "import pandas as pd\n",
    "df = pd.read_csv('data/dataset.csv', quoting=1, escapechar='\\\\', doublequote=True)"
   ]
  },
  {
   "cell_type": "code",
   "execution_count": 32,
   "id": "79e16146-7914-4ba0-921c-7d793d84521e",
   "metadata": {},
   "outputs": [],
   "source": [
    "#df = df.head(100000)\n",
    "df = df[['id', 'text']]"
   ]
  },
  {
   "cell_type": "code",
   "execution_count": 33,
   "id": "96dcdcf3-75a4-4cb1-99d7-358d25ac57ba",
   "metadata": {},
   "outputs": [],
   "source": [
    "df.to_csv('data/liwc/input.csv', index=False, quoting=1, escapechar='\\\\', doublequote=True)"
   ]
  },
  {
   "cell_type": "markdown",
   "id": "be0cf6b5-ddff-4ace-af83-03f7b220f634",
   "metadata": {},
   "source": [
    "## Importing results and saving final_scores"
   ]
  },
  {
   "cell_type": "code",
   "execution_count": 34,
   "id": "89897499-59b9-4267-b647-b067908446af",
   "metadata": {},
   "outputs": [],
   "source": [
    "import pickle\n",
    "def save_final(model_name, data):\n",
    "    with open(f'data/final_scores_{model_name}.pkl', 'wb') as f:\n",
    "        pickle.dump(data, f)"
   ]
  },
  {
   "cell_type": "code",
   "execution_count": 35,
   "id": "0e9c3953-2fba-4050-acf6-57c8a682348e",
   "metadata": {},
   "outputs": [],
   "source": [
    "df = pd.read_csv('data/liwc/output.csv', quoting=1, escapechar='\\\\', doublequote=True)\n",
    "\n",
    "df = df[['id', 'Tone']]\n",
    "df.dropna(subset=['Tone'], inplace = True)\n",
    "\n",
    "df['Tone'] = df['Tone'].apply(lambda x: \n",
    "    'positive' if x > 50 else \n",
    "    'negative' if x < 50 else \n",
    "    'neutral')\n",
    "\n",
    "scores = dict(zip(df['id'], df['Tone']))\n",
    "save_final('liwc', scores)"
   ]
  },
  {
   "cell_type": "code",
   "execution_count": 36,
   "id": "d3016244-cab7-4aca-a494-c6d896335e62",
   "metadata": {},
   "outputs": [
    {
     "data": {
      "text/plain": [
       "1216005"
      ]
     },
     "execution_count": 36,
     "metadata": {},
     "output_type": "execute_result"
    }
   ],
   "source": [
    "len(scores)"
   ]
  },
  {
   "cell_type": "code",
   "execution_count": null,
   "id": "9ca61673-c40e-41f6-b358-5b51d4924f45",
   "metadata": {},
   "outputs": [],
   "source": []
  }
 ],
 "metadata": {
  "kernelspec": {
   "display_name": "Python 3 (ipykernel)",
   "language": "python",
   "name": "python3"
  },
  "language_info": {
   "codemirror_mode": {
    "name": "ipython",
    "version": 3
   },
   "file_extension": ".py",
   "mimetype": "text/x-python",
   "name": "python",
   "nbconvert_exporter": "python",
   "pygments_lexer": "ipython3",
   "version": "3.11.7"
  }
 },
 "nbformat": 4,
 "nbformat_minor": 5
}
